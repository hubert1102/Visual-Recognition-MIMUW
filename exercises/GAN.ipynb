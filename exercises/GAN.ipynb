{
  "nbformat": 4,
  "nbformat_minor": 0,
  "metadata": {
    "colab": {
      "name": "H_GAN_[student].ipynb",
      "provenance": [],
      "collapsed_sections": []
    },
    "kernelspec": {
      "name": "python3",
      "display_name": "Python 3"
    },
    "accelerator": "GPU"
  },
  "cells": [
    {
      "cell_type": "markdown",
      "metadata": {
        "id": "0TD5ZrvEMbhZ"
      },
      "source": [
        "# Generating Handwritten Digits with DCGAN"
      ]
    },
    {
      "cell_type": "markdown",
      "metadata": {
        "id": "ITZuApL56Mny"
      },
      "source": [
        "Deep Convolutional Generative Adversarial Network ([DCGAN](https://arxiv.org/pdf/1511.06434.pdf))."
      ]
    },
    {
      "cell_type": "markdown",
      "metadata": {
        "id": "2MbKJY38Puy9"
      },
      "source": [
        "## What are GANs?\n",
        "Generative Adversarial Networks (GANs) are a framework for estimating generative models. Two models are trained simultaneously by an adversarial process: a Generator, which is responsible for generating images, and a Discriminator, which is responsible for estimating the probability that an image was drawn from the training data (the image is real), or was produced by the Generator (the image is fake). During training, the Generator becomes progressively better at generating images, until the Discriminator is no longer able to distinguish real images from fake. \n",
        "\n",
        "![alt text](https://github.com/margaretmz/tensorflow/blob/margaret-dcgan/tensorflow/contrib/eager/python/examples/generative_examples/gans_diagram.png?raw=1)\n",
        "\n",
        "We will demonstrate this process end-to-end on MNIST. Below is an animation that shows a series of images produced by the Generator as it was trained for 50 epochs. Overtime, the generated images become increasingly difficult to distinguish from the training set.\n",
        "\n",
        "![sample output](https://tensorflow.org/images/gan/dcgan.gif)"
      ]
    },
    {
      "cell_type": "markdown",
      "metadata": {
        "id": "e1_Y75QXJS6h"
      },
      "source": [
        "### Import Keras"
      ]
    },
    {
      "cell_type": "code",
      "metadata": {
        "id": "YfIk2es3hJEd"
      },
      "source": [
        "import tensorflow as tf\n",
        "from tensorflow.keras.datasets import mnist\n",
        "from tensorflow.keras.models import Model, Sequential\n",
        "from tensorflow.keras.layers import *\n",
        "from tensorflow.keras.losses import BinaryCrossentropy\n",
        "from tensorflow.keras.optimizers import Adam\n",
        "from tqdm import tqdm\n",
        "import numpy as np\n",
        "import matplotlib.pyplot as plt"
      ],
      "execution_count": 1,
      "outputs": []
    },
    {
      "cell_type": "markdown",
      "metadata": {
        "id": "iYn4MdZnKCey"
      },
      "source": [
        "### Load the dataset\n",
        "\n",
        "We are going to use the MNIST dataset to train the generator and the discriminator. The generator will generate handwritten digits resembling the MNIST data."
      ]
    },
    {
      "cell_type": "code",
      "metadata": {
        "id": "a4fYMGxGhrna",
        "colab": {
          "base_uri": "https://localhost:8080/"
        },
        "outputId": "4459029f-6cb2-417e-b35e-d96eacf630a0"
      },
      "source": [
        "(X_train, _), (_, _) = mnist.load_data()\n",
        "X_train = X_train.reshape(X_train.shape[0], 28, 28, 1).astype('float32')\n",
        "X_train = (X_train - 127.5) / 127.5\n",
        "X_train.shape"
      ],
      "execution_count": 2,
      "outputs": [
        {
          "output_type": "execute_result",
          "data": {
            "text/plain": [
              "(60000, 28, 28, 1)"
            ]
          },
          "metadata": {
            "tags": []
          },
          "execution_count": 2
        }
      ]
    },
    {
      "cell_type": "markdown",
      "metadata": {
        "id": "THY-sZMiQ4UV"
      },
      "source": [
        "## Create the models\n",
        "\n",
        "The discriminator and the generator optimizers are different since we will train two networks separately."
      ]
    },
    {
      "cell_type": "markdown",
      "metadata": {
        "id": "-tEyxE-GMC48"
      },
      "source": [
        "### The Generator Model\n",
        "\n",
        "The generator is responsible for creating convincing images that are good enough to fool the discriminator. The network architecture for the generator consists of Conv2DTranspose (Upsampling) layers. We start with a fully connected layer and upsample the image two times in order to reach the desired image size of 28x28x1. We increase the width and height, and reduce the depth as we move through the layers in the network. We use Leaky ReLU activation for each layer except for the last one where we use a tanh activation."
      ]
    },
    {
      "cell_type": "code",
      "metadata": {
        "id": "6bpTcDqoLWjY"
      },
      "source": [
        "def build_generator():\n",
        "  model = Sequential()\n",
        "  model.add(Dense(7*7*256, use_bias=False, input_shape=(100,)))\n",
        "  model.add(BatchNormalization())\n",
        "  model.add(LeakyReLU())\n",
        "  \n",
        "  model.add(Reshape((7, 7, 256)))\n",
        "  assert model.output_shape == (None, 7, 7, 256) # Note: None is the batch size\n",
        "  \n",
        "  model.add(Conv2DTranspose(128, (5, 5), strides=(1, 1), padding='same', use_bias=False))\n",
        "  assert model.output_shape == (None, 7, 7, 128)  \n",
        "  model.add(BatchNormalization())\n",
        "  model.add(LeakyReLU())\n",
        "  \n",
        "  model.add(Conv2DTranspose(64, (5, 5), strides=(2, 2), padding='same', use_bias=False))\n",
        "  assert model.output_shape == (None, 14, 14, 64)    \n",
        "  model.add(BatchNormalization())\n",
        "  model.add(LeakyReLU())\n",
        "  \n",
        "  model.add(Conv2DTranspose(1, (5, 5), strides=(2, 2), padding='same', use_bias=False, activation='tanh'))\n",
        "  assert model.output_shape == (None, 28, 28, 1)\n",
        "  \n",
        "  return model"
      ],
      "execution_count": 3,
      "outputs": []
    },
    {
      "cell_type": "markdown",
      "metadata": {
        "id": "D0IKnaCtg6WE"
      },
      "source": [
        "### The Discriminator model\n",
        "\n",
        "The discriminator is responsible for distinguishing fake images from real images. It's similar to a regular CNN-based image classifier."
      ]
    },
    {
      "cell_type": "code",
      "metadata": {
        "id": "dw2tPLmk2pEP"
      },
      "source": [
        "def build_discriminator():\n",
        "  model = Sequential()\n",
        "  model.add(Conv2D(64, (5, 5), strides=(2, 2), padding='same',input_shape=(28,28,1)))\n",
        "  model.add(LeakyReLU())\n",
        "  model.add(Dropout(0.3))\n",
        "  \n",
        "  model.add(Conv2D(128, (5, 5), strides=(2, 2), padding='same'))\n",
        "  model.add(LeakyReLU())\n",
        "  model.add(Dropout(0.3))\n",
        "  \n",
        "  model.add(Flatten())\n",
        "  model.add(Dense(1))\n",
        "  model.add(Activation('sigmoid'))\n",
        "  model.compile(loss='binary_crossentropy', metrics=['accuracy'])\n",
        "  return model"
      ],
      "execution_count": 73,
      "outputs": []
    },
    {
      "cell_type": "markdown",
      "metadata": {
        "id": "Rw1fkAczTQYh"
      },
      "source": [
        "## Set up GANs for Training\n",
        "\n"
      ]
    },
    {
      "cell_type": "markdown",
      "metadata": {
        "id": "5QC5BABamh_c"
      },
      "source": [
        "Now it's time to put together the generator and discriminator to set up the Generative Adversarial Networks, as you see in the diagam at the beginning of the tutorial.\n",
        "\n",
        "Get the output of the generator and then feed it to the discriminator ( D(G(input)) )."
      ]
    },
    {
      "cell_type": "code",
      "metadata": {
        "id": "NS2GWywBbAWo"
      },
      "source": [
        "generator = build_generator()\n",
        "discriminator = build_discriminator()\n",
        "\n",
        "gan = Sequential([generator,discriminator])\n",
        "discriminator.trainable = False\n",
        "gan.compile(loss='binary_crossentropy')"
      ],
      "execution_count": 74,
      "outputs": []
    },
    {
      "cell_type": "markdown",
      "metadata": {
        "id": "jylSonrqSWfi"
      },
      "source": [
        "**Define training method**\n",
        "\n",
        "We start by iterating over the dataset. The generator is given a random vector as an input which is processed to output an image looking like a handwritten digit. The discriminator is then shown the real MNIST images as well as the generated images."
      ]
    },
    {
      "cell_type": "markdown",
      "metadata": {
        "id": "Up_VmCwYL9Tj"
      },
      "source": [
        "## Generated images \n"
      ]
    },
    {
      "cell_type": "code",
      "metadata": {
        "colab": {
          "base_uri": "https://localhost:8080/"
        },
        "id": "J2lSyH5o8H0n",
        "outputId": "5f27eb04-8a15-4e62-b971-4b4c61bc3868"
      },
      "source": [
        "n_epoch = 100\r\n",
        "batch_size = 512\r\n",
        "batch_count = X_train.shape[0] // batch_size\r\n",
        "d_losses = []\r\n",
        "g_losses = []\r\n",
        "for i in range(n_epoch):\r\n",
        "  for j in tqdm(range(batch_count)):\r\n",
        "    # Input for the generator\r\n",
        "    noise_input = np.random.rand(batch_size, 100)\r\n",
        "    \r\n",
        "    # getting random images from X_train of size=batch_size\r\n",
        "    # these are the real images that will be fed to the discriminator\r\n",
        "    image_batch = X_train[np.random.randint(0, X_train.shape[0], size=batch_size)]\r\n",
        "    \r\n",
        "    # these are the predicted images from the generator\r\n",
        "    predictions = generator.predict(noise_input, batch_size=batch_size)\r\n",
        "    \r\n",
        "    # the discriminator takes in the real images and the generated images\r\n",
        "    X = np.concatenate([predictions, image_batch])\r\n",
        "    X = tf.convert_to_tensor(X,dtype=tf.float32)\r\n",
        "    # labels for the discriminator\r\n",
        "    y_discriminator = np.array([0]*batch_size + [1]*batch_size)\r\n",
        "    \r\n",
        "    # Let's train the discriminator\r\n",
        "    discriminator.trainable = True\r\n",
        "    loss = discriminator.train_on_batch(X, y_discriminator)\r\n",
        "    d_losses.append(loss)\r\n",
        "    # Let's train the generator\r\n",
        "    noise_input = np.random.rand(batch_size, 100)\r\n",
        "    y_generator = np.array([1]*batch_size)\r\n",
        "    discriminator.trainable = False\r\n",
        "    loss = gan.train_on_batch(noise_input, y_generator)\r\n",
        "    g_losses.append(loss)"
      ],
      "execution_count": 82,
      "outputs": [
        {
          "output_type": "stream",
          "text": [
            "100%|██████████| 117/117 [00:16<00:00,  7.22it/s]\n",
            "100%|██████████| 117/117 [00:16<00:00,  7.26it/s]\n",
            "100%|██████████| 117/117 [00:16<00:00,  7.19it/s]\n",
            "100%|██████████| 117/117 [00:16<00:00,  7.18it/s]\n",
            "100%|██████████| 117/117 [00:16<00:00,  7.28it/s]\n",
            "100%|██████████| 117/117 [00:16<00:00,  7.27it/s]\n",
            "100%|██████████| 117/117 [00:16<00:00,  7.20it/s]\n",
            "100%|██████████| 117/117 [00:16<00:00,  7.23it/s]\n",
            "100%|██████████| 117/117 [00:16<00:00,  7.24it/s]\n",
            "100%|██████████| 117/117 [00:16<00:00,  7.24it/s]\n",
            "100%|██████████| 117/117 [00:16<00:00,  7.23it/s]\n",
            "100%|██████████| 117/117 [00:16<00:00,  7.21it/s]\n",
            "100%|██████████| 117/117 [00:16<00:00,  7.25it/s]\n",
            "100%|██████████| 117/117 [00:16<00:00,  7.19it/s]\n",
            "100%|██████████| 117/117 [00:16<00:00,  7.25it/s]\n",
            "100%|██████████| 117/117 [00:16<00:00,  7.23it/s]\n",
            "100%|██████████| 117/117 [00:16<00:00,  7.26it/s]\n",
            "100%|██████████| 117/117 [00:16<00:00,  7.23it/s]\n",
            "100%|██████████| 117/117 [00:16<00:00,  7.26it/s]\n",
            "100%|██████████| 117/117 [00:16<00:00,  7.17it/s]\n",
            "100%|██████████| 117/117 [00:16<00:00,  7.20it/s]\n",
            "100%|██████████| 117/117 [00:16<00:00,  7.26it/s]\n",
            "100%|██████████| 117/117 [00:16<00:00,  7.23it/s]\n",
            "100%|██████████| 117/117 [00:16<00:00,  7.25it/s]\n",
            "100%|██████████| 117/117 [00:16<00:00,  7.26it/s]\n",
            "100%|██████████| 117/117 [00:16<00:00,  7.23it/s]\n",
            "100%|██████████| 117/117 [00:16<00:00,  7.19it/s]\n",
            "100%|██████████| 117/117 [00:16<00:00,  7.23it/s]\n",
            "100%|██████████| 117/117 [00:16<00:00,  7.24it/s]\n",
            "100%|██████████| 117/117 [00:16<00:00,  7.27it/s]\n",
            "100%|██████████| 117/117 [00:16<00:00,  7.21it/s]\n",
            "100%|██████████| 117/117 [00:16<00:00,  7.26it/s]\n",
            "100%|██████████| 117/117 [00:16<00:00,  7.26it/s]\n",
            "100%|██████████| 117/117 [00:16<00:00,  7.17it/s]\n",
            "100%|██████████| 117/117 [00:16<00:00,  7.25it/s]\n",
            "100%|██████████| 117/117 [00:16<00:00,  7.23it/s]\n",
            "100%|██████████| 117/117 [00:16<00:00,  7.24it/s]\n",
            "100%|██████████| 117/117 [00:16<00:00,  7.26it/s]\n",
            "100%|██████████| 117/117 [00:16<00:00,  7.24it/s]\n",
            "100%|██████████| 117/117 [00:16<00:00,  7.18it/s]\n",
            "100%|██████████| 117/117 [00:16<00:00,  7.25it/s]\n",
            "100%|██████████| 117/117 [00:16<00:00,  7.24it/s]\n",
            "100%|██████████| 117/117 [00:16<00:00,  7.22it/s]\n",
            "100%|██████████| 117/117 [00:16<00:00,  7.24it/s]\n",
            "100%|██████████| 117/117 [00:16<00:00,  7.19it/s]\n",
            "100%|██████████| 117/117 [00:16<00:00,  7.23it/s]\n",
            "100%|██████████| 117/117 [00:16<00:00,  7.16it/s]\n",
            "100%|██████████| 117/117 [00:16<00:00,  7.25it/s]\n",
            "100%|██████████| 117/117 [00:16<00:00,  7.24it/s]\n",
            "100%|██████████| 117/117 [00:16<00:00,  7.18it/s]\n",
            "100%|██████████| 117/117 [00:16<00:00,  7.23it/s]\n",
            "100%|██████████| 117/117 [00:16<00:00,  7.24it/s]\n",
            "100%|██████████| 117/117 [00:16<00:00,  7.18it/s]\n",
            "100%|██████████| 117/117 [00:16<00:00,  7.25it/s]\n",
            "100%|██████████| 117/117 [00:16<00:00,  7.24it/s]\n",
            "100%|██████████| 117/117 [00:16<00:00,  7.22it/s]\n",
            "100%|██████████| 117/117 [00:16<00:00,  7.23it/s]\n",
            "100%|██████████| 117/117 [00:16<00:00,  7.23it/s]\n",
            "100%|██████████| 117/117 [00:16<00:00,  7.24it/s]\n",
            "100%|██████████| 117/117 [00:16<00:00,  7.15it/s]\n",
            "100%|██████████| 117/117 [00:16<00:00,  7.22it/s]\n",
            "100%|██████████| 117/117 [00:16<00:00,  7.25it/s]\n",
            "100%|██████████| 117/117 [00:16<00:00,  7.24it/s]\n",
            "100%|██████████| 117/117 [00:16<00:00,  7.23it/s]\n",
            "100%|██████████| 117/117 [00:16<00:00,  7.22it/s]\n",
            "100%|██████████| 117/117 [00:16<00:00,  7.21it/s]\n",
            "100%|██████████| 117/117 [00:16<00:00,  7.17it/s]\n",
            "100%|██████████| 117/117 [00:16<00:00,  7.24it/s]\n",
            "100%|██████████| 117/117 [00:16<00:00,  7.18it/s]\n",
            "100%|██████████| 117/117 [00:16<00:00,  7.22it/s]\n",
            "100%|██████████| 117/117 [00:16<00:00,  7.23it/s]\n",
            "100%|██████████| 117/117 [00:16<00:00,  7.24it/s]\n",
            "100%|██████████| 117/117 [00:16<00:00,  7.17it/s]\n",
            "100%|██████████| 117/117 [00:16<00:00,  7.23it/s]\n",
            "100%|██████████| 117/117 [00:16<00:00,  7.23it/s]\n",
            "100%|██████████| 117/117 [00:16<00:00,  7.20it/s]\n",
            "100%|██████████| 117/117 [00:16<00:00,  7.21it/s]\n",
            "100%|██████████| 117/117 [00:16<00:00,  7.19it/s]\n",
            "100%|██████████| 117/117 [00:16<00:00,  7.24it/s]\n",
            "100%|██████████| 117/117 [00:16<00:00,  7.14it/s]\n",
            "100%|██████████| 117/117 [00:16<00:00,  7.25it/s]\n",
            "100%|██████████| 117/117 [00:16<00:00,  7.21it/s]\n",
            "100%|██████████| 117/117 [00:16<00:00,  7.22it/s]\n",
            "100%|██████████| 117/117 [00:16<00:00,  7.22it/s]\n",
            "100%|██████████| 117/117 [00:16<00:00,  7.24it/s]\n",
            "100%|██████████| 117/117 [00:16<00:00,  7.23it/s]\n",
            "100%|██████████| 117/117 [00:16<00:00,  7.15it/s]\n",
            "100%|██████████| 117/117 [00:16<00:00,  7.19it/s]\n",
            "100%|██████████| 117/117 [00:16<00:00,  7.20it/s]\n",
            "100%|██████████| 117/117 [00:16<00:00,  7.23it/s]\n",
            "100%|██████████| 117/117 [00:16<00:00,  7.25it/s]\n",
            "100%|██████████| 117/117 [00:16<00:00,  7.24it/s]\n",
            "100%|██████████| 117/117 [00:16<00:00,  7.17it/s]\n",
            "100%|██████████| 117/117 [00:16<00:00,  7.26it/s]\n",
            "100%|██████████| 117/117 [00:16<00:00,  7.24it/s]\n",
            "100%|██████████| 117/117 [00:16<00:00,  7.23it/s]\n",
            "100%|██████████| 117/117 [00:16<00:00,  7.22it/s]\n",
            "100%|██████████| 117/117 [00:16<00:00,  7.25it/s]\n",
            "100%|██████████| 117/117 [00:16<00:00,  7.23it/s]\n",
            "100%|██████████| 117/117 [00:16<00:00,  7.16it/s]\n"
          ],
          "name": "stderr"
        }
      ]
    },
    {
      "cell_type": "markdown",
      "metadata": {
        "id": "mLskt7EfXAjr"
      },
      "source": [
        "\n",
        "After training, its time to generate some images! \n",
        "The last step is to plot the generated images and voila!\n"
      ]
    },
    {
      "cell_type": "code",
      "metadata": {
        "id": "WfO5wCdclHGL",
        "colab": {
          "base_uri": "https://localhost:8080/",
          "height": 369
        },
        "outputId": "d4e7e905-e6c8-47c9-c2bf-f8dc1a56ba64"
      },
      "source": [
        "try_input = np.random.rand(25, 100)\n",
        "preds = generator.predict(try_input)\n",
        "plt.figure(figsize=(5,5))\n",
        "for i in range(preds.shape[0]):\n",
        "  plt.subplot(5, 5, i+1)\n",
        "  plt.imshow(preds[i, :, :, 0], cmap='gray')\n",
        "  plt.axis('off')\n",
        "  plt.tight_layout()"
      ],
      "execution_count": 88,
      "outputs": [
        {
          "output_type": "display_data",
          "data": {
            "image/png": "[encoded data removed]",
            "text/plain": [
              "<Figure size 360x360 with 25 Axes>"
            ]
          },
          "metadata": {
            "tags": [],
            "needs_background": "light"
          }
        }
      ]
    }
  ]
}