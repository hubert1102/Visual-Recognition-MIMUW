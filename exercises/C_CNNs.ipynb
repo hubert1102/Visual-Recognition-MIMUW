{
  "nbformat": 4,
  "nbformat_minor": 0,
  "metadata": {
    "colab": {
      "name": "C_CNNs_[student].ipynb",
      "provenance": [],
      "collapsed_sections": []
    },
    "kernelspec": {
      "name": "python3",
      "display_name": "Python 3"
    },
    "accelerator": "TPU"
  },
  "cells": [
    {
      "cell_type": "markdown",
      "metadata": {
        "id": "6XWyAz2LIetQ"
      },
      "source": [
        "## Convolutional Neural Networks\n",
        "\n",
        "1. Introduction to Colab.\n",
        "\n",
        "2. Task: Implement and train a CNN on MNIST and CIFAR10 datasets using keras and GPU.\n",
        "\n",
        "Datasets: datasets/mnist.npz and datasets/cifar10.npz"
      ]
    },
    {
      "cell_type": "code",
      "metadata": {
        "id": "rKHCCt2xQEsx",
        "colab": {
          "base_uri": "https://localhost:8080/"
        },
        "outputId": "fc84d94e-6b3b-4927-a26a-f7f7c110072f"
      },
      "source": [
        "!wget https://www.mimuw.edu.pl/~bilinski/VRNN2020/labs/datasets/mnist.npz"
      ],
      "execution_count": null,
      "outputs": [
        {
          "output_type": "stream",
          "text": [
            "--2020-11-18 14:35:21--  https://www.mimuw.edu.pl/~bilinski/VRNN2020/labs/datasets/mnist.npz\n",
            "Resolving www.mimuw.edu.pl (www.mimuw.edu.pl)... 193.0.96.14\n",
            "Connecting to www.mimuw.edu.pl (www.mimuw.edu.pl)|193.0.96.14|:443... connected.\n",
            "HTTP request sent, awaiting response... 200 OK\n",
            "Length: 444640894 (424M)\n",
            "Saving to: ‘mnist.npz’\n",
            "\n",
            "mnist.npz           100%[===================>] 424.04M  6.85MB/s    in 55s     \n",
            "\n",
            "2020-11-18 14:36:18 (7.66 MB/s) - ‘mnist.npz’ saved [444640894/444640894]\n",
            "\n"
          ],
          "name": "stdout"
        }
      ]
    },
    {
      "cell_type": "code",
      "metadata": {
        "colab": {
          "base_uri": "https://localhost:8080/"
        },
        "id": "AaDGX8vbhYHI",
        "outputId": "7462351c-42cc-4999-a411-ad3a4e9be9a6"
      },
      "source": [
        "import tensorflow as tf\n",
        "!nvidia-smi\n",
        "try:\n",
        "  tpu = tf.distribute.cluster_resolver.TPUClusterResolver()  # TPU detection\n",
        "  print('Running on TPU ', tpu.cluster_spec().as_dict()['worker'])\n",
        "except ValueError:\n",
        "  raise BaseException('ERROR: Not connected to a TPU runtime; please see the previous cell in this notebook for instructions!')\n",
        "\n",
        "tf.config.experimental_connect_to_cluster(tpu)\n",
        "tf.tpu.experimental.initialize_tpu_system(tpu)\n",
        "tpu_strategy = tf.distribute.experimental.TPUStrategy(tpu)"
      ],
      "execution_count": null,
      "outputs": [
        {
          "output_type": "stream",
          "text": [
            "NVIDIA-SMI has failed because it couldn't communicate with the NVIDIA driver. Make sure that the latest NVIDIA driver is installed and running.\n",
            "\n",
            "Running on TPU  ['10.45.203.234:8470']\n",
            "INFO:tensorflow:Initializing the TPU system: grpc://10.45.203.234:8470\n"
          ],
          "name": "stdout"
        },
        {
          "output_type": "stream",
          "text": [
            "INFO:tensorflow:Initializing the TPU system: grpc://10.45.203.234:8470\n"
          ],
          "name": "stderr"
        },
        {
          "output_type": "stream",
          "text": [
            "INFO:tensorflow:Clearing out eager caches\n"
          ],
          "name": "stdout"
        },
        {
          "output_type": "stream",
          "text": [
            "INFO:tensorflow:Clearing out eager caches\n"
          ],
          "name": "stderr"
        },
        {
          "output_type": "stream",
          "text": [
            "INFO:tensorflow:Finished initializing TPU system.\n"
          ],
          "name": "stdout"
        },
        {
          "output_type": "stream",
          "text": [
            "INFO:tensorflow:Finished initializing TPU system.\n",
            "WARNING:absl:`tf.distribute.experimental.TPUStrategy` is deprecated, please use  the non experimental symbol `tf.distribute.TPUStrategy` instead.\n"
          ],
          "name": "stderr"
        },
        {
          "output_type": "stream",
          "text": [
            "INFO:tensorflow:Found TPU system:\n"
          ],
          "name": "stdout"
        },
        {
          "output_type": "stream",
          "text": [
            "INFO:tensorflow:Found TPU system:\n"
          ],
          "name": "stderr"
        },
        {
          "output_type": "stream",
          "text": [
            "INFO:tensorflow:*** Num TPU Cores: 8\n"
          ],
          "name": "stdout"
        },
        {
          "output_type": "stream",
          "text": [
            "INFO:tensorflow:*** Num TPU Cores: 8\n"
          ],
          "name": "stderr"
        },
        {
          "output_type": "stream",
          "text": [
            "INFO:tensorflow:*** Num TPU Workers: 1\n"
          ],
          "name": "stdout"
        },
        {
          "output_type": "stream",
          "text": [
            "INFO:tensorflow:*** Num TPU Workers: 1\n"
          ],
          "name": "stderr"
        },
        {
          "output_type": "stream",
          "text": [
            "INFO:tensorflow:*** Num TPU Cores Per Worker: 8\n"
          ],
          "name": "stdout"
        },
        {
          "output_type": "stream",
          "text": [
            "INFO:tensorflow:*** Num TPU Cores Per Worker: 8\n"
          ],
          "name": "stderr"
        },
        {
          "output_type": "stream",
          "text": [
            "INFO:tensorflow:*** Available Device: _DeviceAttributes(/job:localhost/replica:0/task:0/device:CPU:0, CPU, 0, 0)\n"
          ],
          "name": "stdout"
        },
        {
          "output_type": "stream",
          "text": [
            "INFO:tensorflow:*** Available Device: _DeviceAttributes(/job:localhost/replica:0/task:0/device:CPU:0, CPU, 0, 0)\n"
          ],
          "name": "stderr"
        },
        {
          "output_type": "stream",
          "text": [
            "INFO:tensorflow:*** Available Device: _DeviceAttributes(/job:localhost/replica:0/task:0/device:XLA_CPU:0, XLA_CPU, 0, 0)\n"
          ],
          "name": "stdout"
        },
        {
          "output_type": "stream",
          "text": [
            "INFO:tensorflow:*** Available Device: _DeviceAttributes(/job:localhost/replica:0/task:0/device:XLA_CPU:0, XLA_CPU, 0, 0)\n"
          ],
          "name": "stderr"
        },
        {
          "output_type": "stream",
          "text": [
            "INFO:tensorflow:*** Available Device: _DeviceAttributes(/job:worker/replica:0/task:0/device:CPU:0, CPU, 0, 0)\n"
          ],
          "name": "stdout"
        },
        {
          "output_type": "stream",
          "text": [
            "INFO:tensorflow:*** Available Device: _DeviceAttributes(/job:worker/replica:0/task:0/device:CPU:0, CPU, 0, 0)\n"
          ],
          "name": "stderr"
        },
        {
          "output_type": "stream",
          "text": [
            "INFO:tensorflow:*** Available Device: _DeviceAttributes(/job:worker/replica:0/task:0/device:TPU:0, TPU, 0, 0)\n"
          ],
          "name": "stdout"
        },
        {
          "output_type": "stream",
          "text": [
            "INFO:tensorflow:*** Available Device: _DeviceAttributes(/job:worker/replica:0/task:0/device:TPU:0, TPU, 0, 0)\n"
          ],
          "name": "stderr"
        },
        {
          "output_type": "stream",
          "text": [
            "INFO:tensorflow:*** Available Device: _DeviceAttributes(/job:worker/replica:0/task:0/device:TPU:1, TPU, 0, 0)\n"
          ],
          "name": "stdout"
        },
        {
          "output_type": "stream",
          "text": [
            "INFO:tensorflow:*** Available Device: _DeviceAttributes(/job:worker/replica:0/task:0/device:TPU:1, TPU, 0, 0)\n"
          ],
          "name": "stderr"
        },
        {
          "output_type": "stream",
          "text": [
            "INFO:tensorflow:*** Available Device: _DeviceAttributes(/job:worker/replica:0/task:0/device:TPU:2, TPU, 0, 0)\n"
          ],
          "name": "stdout"
        },
        {
          "output_type": "stream",
          "text": [
            "INFO:tensorflow:*** Available Device: _DeviceAttributes(/job:worker/replica:0/task:0/device:TPU:2, TPU, 0, 0)\n"
          ],
          "name": "stderr"
        },
        {
          "output_type": "stream",
          "text": [
            "INFO:tensorflow:*** Available Device: _DeviceAttributes(/job:worker/replica:0/task:0/device:TPU:3, TPU, 0, 0)\n"
          ],
          "name": "stdout"
        },
        {
          "output_type": "stream",
          "text": [
            "INFO:tensorflow:*** Available Device: _DeviceAttributes(/job:worker/replica:0/task:0/device:TPU:3, TPU, 0, 0)\n"
          ],
          "name": "stderr"
        },
        {
          "output_type": "stream",
          "text": [
            "INFO:tensorflow:*** Available Device: _DeviceAttributes(/job:worker/replica:0/task:0/device:TPU:4, TPU, 0, 0)\n"
          ],
          "name": "stdout"
        },
        {
          "output_type": "stream",
          "text": [
            "INFO:tensorflow:*** Available Device: _DeviceAttributes(/job:worker/replica:0/task:0/device:TPU:4, TPU, 0, 0)\n"
          ],
          "name": "stderr"
        },
        {
          "output_type": "stream",
          "text": [
            "INFO:tensorflow:*** Available Device: _DeviceAttributes(/job:worker/replica:0/task:0/device:TPU:5, TPU, 0, 0)\n"
          ],
          "name": "stdout"
        },
        {
          "output_type": "stream",
          "text": [
            "INFO:tensorflow:*** Available Device: _DeviceAttributes(/job:worker/replica:0/task:0/device:TPU:5, TPU, 0, 0)\n"
          ],
          "name": "stderr"
        },
        {
          "output_type": "stream",
          "text": [
            "INFO:tensorflow:*** Available Device: _DeviceAttributes(/job:worker/replica:0/task:0/device:TPU:6, TPU, 0, 0)\n"
          ],
          "name": "stdout"
        },
        {
          "output_type": "stream",
          "text": [
            "INFO:tensorflow:*** Available Device: _DeviceAttributes(/job:worker/replica:0/task:0/device:TPU:6, TPU, 0, 0)\n"
          ],
          "name": "stderr"
        },
        {
          "output_type": "stream",
          "text": [
            "INFO:tensorflow:*** Available Device: _DeviceAttributes(/job:worker/replica:0/task:0/device:TPU:7, TPU, 0, 0)\n"
          ],
          "name": "stdout"
        },
        {
          "output_type": "stream",
          "text": [
            "INFO:tensorflow:*** Available Device: _DeviceAttributes(/job:worker/replica:0/task:0/device:TPU:7, TPU, 0, 0)\n"
          ],
          "name": "stderr"
        },
        {
          "output_type": "stream",
          "text": [
            "INFO:tensorflow:*** Available Device: _DeviceAttributes(/job:worker/replica:0/task:0/device:TPU_SYSTEM:0, TPU_SYSTEM, 0, 0)\n"
          ],
          "name": "stdout"
        },
        {
          "output_type": "stream",
          "text": [
            "INFO:tensorflow:*** Available Device: _DeviceAttributes(/job:worker/replica:0/task:0/device:TPU_SYSTEM:0, TPU_SYSTEM, 0, 0)\n"
          ],
          "name": "stderr"
        },
        {
          "output_type": "stream",
          "text": [
            "INFO:tensorflow:*** Available Device: _DeviceAttributes(/job:worker/replica:0/task:0/device:XLA_CPU:0, XLA_CPU, 0, 0)\n"
          ],
          "name": "stdout"
        },
        {
          "output_type": "stream",
          "text": [
            "INFO:tensorflow:*** Available Device: _DeviceAttributes(/job:worker/replica:0/task:0/device:XLA_CPU:0, XLA_CPU, 0, 0)\n"
          ],
          "name": "stderr"
        }
      ]
    },
    {
      "cell_type": "code",
      "metadata": {
        "id": "Yst-OCpnIVE7",
        "colab": {
          "base_uri": "https://localhost:8080/"
        },
        "outputId": "be6fe0ad-98a6-438f-8b87-d6e8ea25f6b6"
      },
      "source": [
        "from __future__ import print_function\n",
        "\n",
        "\n",
        "from tensorflow.keras.models import Sequential\n",
        "from tensorflow.keras.layers import Dense, Dropout, Flatten\n",
        "from tensorflow.keras.layers import Conv2D, MaxPooling2D\n",
        "from tensorflow.keras import backend as K\n",
        "\n",
        "import numpy as np\n",
        "data = np.load('mnist.npz')\n",
        "Xtr,Ytr,Xte,Yte = data['Xtr'],data['Ytr'],data['Xte'],data['Yte']\n",
        "\n",
        "if K.image_data_format() == 'channels_first':\n",
        "    Xtr, Xte, input_shape = Xtr.reshape(Xtr.shape[0], 1, 28, 28), Xte.reshape(Xte.shape[0], 1, 28, 28), (1, 28, 28)\n",
        "else:\n",
        "    Xtr, Xte, input_shape = Xtr.reshape(Xtr.shape[0], 28, 28, 1), Xte.reshape(Xte.shape[0], 28, 28, 1), (28, 28, 1)\n",
        "print(Xtr.shape[0], 'train samples and', Xte.shape[0], 'test samples')\n",
        "\n",
        "print(input_shape)\n",
        "with tpu_strategy.scope():\n",
        "  # creating the model in the TPUStrategy scope means we will train the model on the TPU\n",
        "\n",
        "  model = Sequential()\n",
        "  model.add(tf.keras.layers.Conv2D(32, (3, 3), input_shape=input_shape, activation='relu'))#TODO)  # conv 3x3, 32, relu\n",
        "  model.add(tf.keras.layers.Conv2D(64, (3, 3), activation='relu'))  # conv 3x3, 64, relu\n",
        "  model.add(tf.keras.layers.MaxPooling2D(pool_size=(2, 2)))  # max pooling 2x2\n",
        "  model.add(tf.keras.layers.Dropout(0.25))  # dropout 0.25\n",
        "  model.add(tf.keras.layers.Flatten())  # flatten\n",
        "  model.add(tf.keras.layers.Dense(128, activation='relu'))  # dense 128, relu\n",
        "  model.add(tf.keras.layers.Dropout(0.5))  # dropout 0.5\n",
        "  model.add(tf.keras.layers.Dense(10, activation='softmax'))  # dense 10, softmax\n",
        "  model.compile(loss=tf.keras.losses.categorical_crossentropy, optimizer=tf.keras.optimizers.Adam(), metrics=['accuracy'])\n",
        "\n",
        "  model.summary()\n",
        "  model.fit(Xtr, Ytr, batch_size=1024, epochs=20, validation_data=(Xte, Yte))\n",
        "  score = model.evaluate(Xte, Yte, batch_size=128)\n",
        "  print('Test loss:', score[0])\n",
        "  print('Test accuracy:', score[1])"
      ],
      "execution_count": null,
      "outputs": [
        {
          "output_type": "stream",
          "text": [
            "60000 train samples and 10000 test samples\n",
            "(28, 28, 1)\n",
            "Model: \"sequential_4\"\n",
            "_________________________________________________________________\n",
            "Layer (type)                 Output Shape              Param #   \n",
            "=================================================================\n",
            "conv2d_8 (Conv2D)            (None, 26, 26, 32)        320       \n",
            "_________________________________________________________________\n",
            "conv2d_9 (Conv2D)            (None, 24, 24, 64)        18496     \n",
            "_________________________________________________________________\n",
            "max_pooling2d_4 (MaxPooling2 (None, 12, 12, 64)        0         \n",
            "_________________________________________________________________\n",
            "dropout_8 (Dropout)          (None, 12, 12, 64)        0         \n",
            "_________________________________________________________________\n",
            "flatten_4 (Flatten)          (None, 9216)              0         \n",
            "_________________________________________________________________\n",
            "dense_8 (Dense)              (None, 128)               1179776   \n",
            "_________________________________________________________________\n",
            "dropout_9 (Dropout)          (None, 128)               0         \n",
            "_________________________________________________________________\n",
            "dense_9 (Dense)              (None, 10)                1290      \n",
            "=================================================================\n",
            "Total params: 1,199,882\n",
            "Trainable params: 1,199,882\n",
            "Non-trainable params: 0\n",
            "_________________________________________________________________\n",
            "Epoch 1/20\n",
            " 1/59 [..............................] - ETA: 1:11 - loss: 2.3025 - accuracy: 0.1074WARNING:tensorflow:Callbacks method `on_train_batch_end` is slow compared to the batch time (batch time: 0.0019s vs `on_train_batch_end` time: 0.0189s). Check your callbacks.\n"
          ],
          "name": "stdout"
        },
        {
          "output_type": "stream",
          "text": [
            "WARNING:tensorflow:Callbacks method `on_train_batch_end` is slow compared to the batch time (batch time: 0.0019s vs `on_train_batch_end` time: 0.0189s). Check your callbacks.\n"
          ],
          "name": "stderr"
        },
        {
          "output_type": "stream",
          "text": [
            "59/59 [==============================] - ETA: 0s - loss: 0.9528 - accuracy: 0.7264WARNING:tensorflow:Callbacks method `on_test_batch_end` is slow compared to the batch time (batch time: 0.0015s vs `on_test_batch_end` time: 0.0097s). Check your callbacks.\n"
          ],
          "name": "stdout"
        },
        {
          "output_type": "stream",
          "text": [
            "WARNING:tensorflow:Callbacks method `on_test_batch_end` is slow compared to the batch time (batch time: 0.0015s vs `on_test_batch_end` time: 0.0097s). Check your callbacks.\n"
          ],
          "name": "stderr"
        },
        {
          "output_type": "stream",
          "text": [
            "59/59 [==============================] - 6s 96ms/step - loss: 0.9528 - accuracy: 0.7264 - val_loss: 0.2755 - val_accuracy: 0.9180\n",
            "Epoch 2/20\n",
            "59/59 [==============================] - 2s 31ms/step - loss: 0.3178 - accuracy: 0.9047 - val_loss: 0.1808 - val_accuracy: 0.9445\n",
            "Epoch 3/20\n",
            "59/59 [==============================] - 2s 27ms/step - loss: 0.2326 - accuracy: 0.9319 - val_loss: 0.1236 - val_accuracy: 0.9627\n",
            "Epoch 4/20\n",
            "59/59 [==============================] - 2s 27ms/step - loss: 0.1761 - accuracy: 0.9489 - val_loss: 0.0951 - val_accuracy: 0.9711\n",
            "Epoch 5/20\n",
            "59/59 [==============================] - 2s 27ms/step - loss: 0.1401 - accuracy: 0.9585 - val_loss: 0.0717 - val_accuracy: 0.9772\n",
            "Epoch 6/20\n",
            "59/59 [==============================] - 2s 27ms/step - loss: 0.1110 - accuracy: 0.9676 - val_loss: 0.0643 - val_accuracy: 0.9802\n",
            "Epoch 7/20\n",
            "59/59 [==============================] - 2s 27ms/step - loss: 0.0972 - accuracy: 0.9714 - val_loss: 0.0543 - val_accuracy: 0.9836\n",
            "Epoch 8/20\n",
            "59/59 [==============================] - 2s 27ms/step - loss: 0.0852 - accuracy: 0.9742 - val_loss: 0.0481 - val_accuracy: 0.9840\n",
            "Epoch 9/20\n",
            "59/59 [==============================] - 2s 27ms/step - loss: 0.0761 - accuracy: 0.9774 - val_loss: 0.0437 - val_accuracy: 0.9852\n",
            "Epoch 10/20\n",
            "59/59 [==============================] - 2s 28ms/step - loss: 0.0694 - accuracy: 0.9785 - val_loss: 0.0402 - val_accuracy: 0.9868\n",
            "Epoch 11/20\n",
            "59/59 [==============================] - 2s 28ms/step - loss: 0.0629 - accuracy: 0.9810 - val_loss: 0.0378 - val_accuracy: 0.9879\n",
            "Epoch 12/20\n",
            "59/59 [==============================] - 2s 28ms/step - loss: 0.0601 - accuracy: 0.9821 - val_loss: 0.0383 - val_accuracy: 0.9870\n",
            "Epoch 13/20\n",
            "59/59 [==============================] - 2s 28ms/step - loss: 0.0567 - accuracy: 0.9825 - val_loss: 0.0358 - val_accuracy: 0.9876\n",
            "Epoch 14/20\n",
            "59/59 [==============================] - 2s 28ms/step - loss: 0.0532 - accuracy: 0.9835 - val_loss: 0.0328 - val_accuracy: 0.9894\n",
            "Epoch 15/20\n",
            "59/59 [==============================] - 2s 28ms/step - loss: 0.0511 - accuracy: 0.9841 - val_loss: 0.0341 - val_accuracy: 0.9883\n",
            "Epoch 16/20\n",
            "59/59 [==============================] - 2s 27ms/step - loss: 0.0442 - accuracy: 0.9864 - val_loss: 0.0324 - val_accuracy: 0.9899\n",
            "Epoch 17/20\n",
            "59/59 [==============================] - 2s 27ms/step - loss: 0.0452 - accuracy: 0.9862 - val_loss: 0.0305 - val_accuracy: 0.9893\n",
            "Epoch 18/20\n",
            "59/59 [==============================] - 2s 27ms/step - loss: 0.0436 - accuracy: 0.9862 - val_loss: 0.0314 - val_accuracy: 0.9894\n",
            "Epoch 19/20\n",
            "59/59 [==============================] - 2s 27ms/step - loss: 0.0379 - accuracy: 0.9882 - val_loss: 0.0313 - val_accuracy: 0.9895\n",
            "Epoch 20/20\n",
            "59/59 [==============================] - 2s 27ms/step - loss: 0.0378 - accuracy: 0.9878 - val_loss: 0.0304 - val_accuracy: 0.9903\n",
            " 1/79 [..............................] - ETA: 58s - loss: 0.0065 - accuracy: 1.0000WARNING:tensorflow:Callbacks method `on_test_batch_end` is slow compared to the batch time (batch time: 0.0015s vs `on_test_batch_end` time: 0.0175s). Check your callbacks.\n"
          ],
          "name": "stdout"
        },
        {
          "output_type": "stream",
          "text": [
            "WARNING:tensorflow:Callbacks method `on_test_batch_end` is slow compared to the batch time (batch time: 0.0015s vs `on_test_batch_end` time: 0.0175s). Check your callbacks.\n"
          ],
          "name": "stderr"
        },
        {
          "output_type": "stream",
          "text": [
            "79/79 [==============================] - 2s 30ms/step - loss: 0.0304 - accuracy: 0.9903\n",
            "Test loss: 0.0303773432970047\n",
            "Test accuracy: 0.9902999997138977\n"
          ],
          "name": "stdout"
        }
      ]
    },
    {
      "cell_type": "code",
      "metadata": {
        "colab": {
          "base_uri": "https://localhost:8080/"
        },
        "id": "YyUon3N-tX-_",
        "outputId": "ecbd9f5b-bffd-48e8-922a-73fca5e78348"
      },
      "source": [
        "tf.test.gpu_device_name()\n",
        "print(data['Xtr'].shape)"
      ],
      "execution_count": null,
      "outputs": [
        {
          "output_type": "stream",
          "text": [
            "(60000, 784)\n"
          ],
          "name": "stdout"
        }
      ]
    },
    {
      "cell_type": "code",
      "metadata": {
        "colab": {
          "base_uri": "https://localhost:8080/"
        },
        "id": "yptwYDJ9t4m3",
        "outputId": "f758c646-dcf4-4621-e6a5-45c8dca2fc1d"
      },
      "source": [
        "!wget https://www.mimuw.edu.pl/~bilinski/VRNN2020/labs/datasets/cifar10.npz"
      ],
      "execution_count": null,
      "outputs": [
        {
          "output_type": "stream",
          "text": [
            "--2020-11-18 14:17:50--  https://www.mimuw.edu.pl/~bilinski/VRNN2020/labs/datasets/cifar10.npz\n",
            "Resolving www.mimuw.edu.pl (www.mimuw.edu.pl)... 193.0.96.14\n",
            "Connecting to www.mimuw.edu.pl (www.mimuw.edu.pl)|193.0.96.14|:443... connected.\n",
            "HTTP request sent, awaiting response... 200 OK\n",
            "Length: 742080894 (708M)\n",
            "Saving to: ‘cifar10.npz’\n",
            "\n",
            "cifar10.npz         100%[===================>] 707.70M  4.15MB/s    in 2m 21s  \n",
            "\n",
            "2020-11-18 14:20:12 (5.00 MB/s) - ‘cifar10.npz’ saved [742080894/742080894]\n",
            "\n"
          ],
          "name": "stdout"
        }
      ]
    },
    {
      "cell_type": "code",
      "metadata": {
        "colab": {
          "base_uri": "https://localhost:8080/"
        },
        "id": "lR5TQkX8uAzE",
        "outputId": "468d3c6b-a6ec-4b97-a79a-789a29c27486"
      },
      "source": [
        "data = np.load('cifar10.npz')\n",
        "Xtr,Ytr,Xte,Yte = data['Xtr'],data['Ytr'],data['Xte'],data['Yte']\n",
        "\n",
        "print(Xtr.shape)\n",
        "if K.image_data_format() == 'channels_first':\n",
        "    Xtr, Xte, input_shape = Xtr.reshape(Xtr.shape[0], 3, 32, 32), Xte.reshape(Xte.shape[0], 3, 32, 32), (3, 32, 32)\n",
        "else:\n",
        "    Xtr, Xte, input_shape = Xtr.reshape(Xtr.shape[0], 32, 32, 3), Xte.reshape(Xte.shape[0], 32, 32, 3), (32, 32, 3)\n",
        "print(Xtr.shape[0], 'train samples and', Xte.shape[0], 'test samples')\n",
        "\n",
        "model = Sequential()\n",
        "model.add(tf.keras.layers.Conv2D(32, (3, 3), input_shape=input_shape, activation='relu'))#TODO)  # conv 3x3, 32, relu\n",
        "model.add(tf.keras.layers.Conv2D(64, (3, 3), activation='relu'))  # conv 3x3, 64, relu\n",
        "model.add(tf.keras.layers.MaxPooling2D(pool_size=(2, 2)))  # max pooling 2x2\n",
        "model.add(tf.keras.layers.Dropout(0.25))  # dropout 0.25\n",
        "model.add(tf.keras.layers.Flatten())  # flatten\n",
        "model.add(tf.keras.layers.Dense(128, activation='relu'))  # dense 128, relu\n",
        "model.add(tf.keras.layers.Dropout(0.5))  # dropout 0.5\n",
        "model.add(tf.keras.layers.Dense(10, activation='softmax'))  # dense 10, softmax\n",
        "model.compile(loss=tensorflow.keras.losses.categorical_crossentropy, optimizer=tensorflow.keras.optimizers.Adam(), metrics=['accuracy'])\n",
        "model.summary()\n",
        "model.fit(Xtr, Ytr, batch_size=128, epochs=20, validation_data=(Xte, Yte))\n",
        "\n",
        "model.fit(Xtr, Ytr, batch_size=128, epochs=20, validation_data=(Xte, Yte))\n",
        "score = model.evaluate(Xte, Yte, batch_size=128)"
      ],
      "execution_count": null,
      "outputs": [
        {
          "output_type": "stream",
          "text": [
            "(50000, 3072)\n",
            "50000 train samples and 10000 test samples\n",
            "Model: \"sequential_11\"\n",
            "_________________________________________________________________\n",
            "Layer (type)                 Output Shape              Param #   \n",
            "=================================================================\n",
            "conv2d_19 (Conv2D)           (None, 30, 30, 32)        896       \n",
            "_________________________________________________________________\n",
            "conv2d_20 (Conv2D)           (None, 28, 28, 64)        18496     \n",
            "_________________________________________________________________\n",
            "max_pooling2d_7 (MaxPooling2 (None, 14, 14, 64)        0         \n",
            "_________________________________________________________________\n",
            "dropout_10 (Dropout)         (None, 14, 14, 64)        0         \n",
            "_________________________________________________________________\n",
            "flatten_5 (Flatten)          (None, 12544)             0         \n",
            "_________________________________________________________________\n",
            "dense_10 (Dense)             (None, 128)               1605760   \n",
            "_________________________________________________________________\n",
            "dropout_11 (Dropout)         (None, 128)               0         \n",
            "_________________________________________________________________\n",
            "dense_11 (Dense)             (None, 10)                1290      \n",
            "=================================================================\n",
            "Total params: 1,626,442\n",
            "Trainable params: 1,626,442\n",
            "Non-trainable params: 0\n",
            "_________________________________________________________________\n",
            "Epoch 1/20\n",
            "391/391 [==============================] - 6s 17ms/step - loss: 1.8925 - accuracy: 0.3131 - val_loss: 1.6096 - val_accuracy: 0.4376\n",
            "Epoch 2/20\n",
            "391/391 [==============================] - 6s 16ms/step - loss: 1.6339 - accuracy: 0.4141 - val_loss: 1.4585 - val_accuracy: 0.4772\n",
            "Epoch 3/20\n",
            "391/391 [==============================] - 6s 16ms/step - loss: 1.5552 - accuracy: 0.4426 - val_loss: 1.4015 - val_accuracy: 0.5027\n",
            "Epoch 4/20\n",
            "391/391 [==============================] - 6s 16ms/step - loss: 1.5053 - accuracy: 0.4607 - val_loss: 1.3489 - val_accuracy: 0.5202\n",
            "Epoch 5/20\n",
            "391/391 [==============================] - 6s 16ms/step - loss: 1.4542 - accuracy: 0.4796 - val_loss: 1.3282 - val_accuracy: 0.5290\n",
            "Epoch 6/20\n",
            "391/391 [==============================] - 6s 16ms/step - loss: 1.4180 - accuracy: 0.4927 - val_loss: 1.2826 - val_accuracy: 0.5459\n",
            "Epoch 7/20\n",
            "391/391 [==============================] - 6s 16ms/step - loss: 1.3815 - accuracy: 0.5039 - val_loss: 1.2546 - val_accuracy: 0.5497\n",
            "Epoch 8/20\n",
            "391/391 [==============================] - 6s 16ms/step - loss: 1.3535 - accuracy: 0.5170 - val_loss: 1.2426 - val_accuracy: 0.5545\n",
            "Epoch 9/20\n",
            "391/391 [==============================] - 6s 16ms/step - loss: 1.3248 - accuracy: 0.5287 - val_loss: 1.2136 - val_accuracy: 0.5714\n",
            "Epoch 10/20\n",
            "391/391 [==============================] - 6s 16ms/step - loss: 1.2954 - accuracy: 0.5386 - val_loss: 1.1850 - val_accuracy: 0.5818\n",
            "Epoch 11/20\n",
            "391/391 [==============================] - 6s 16ms/step - loss: 1.2779 - accuracy: 0.5450 - val_loss: 1.1711 - val_accuracy: 0.5874\n",
            "Epoch 12/20\n",
            "391/391 [==============================] - 6s 16ms/step - loss: 1.2641 - accuracy: 0.5510 - val_loss: 1.1557 - val_accuracy: 0.5951\n",
            "Epoch 13/20\n",
            "391/391 [==============================] - 6s 16ms/step - loss: 1.2394 - accuracy: 0.5589 - val_loss: 1.1490 - val_accuracy: 0.5936\n",
            "Epoch 14/20\n",
            "391/391 [==============================] - 6s 16ms/step - loss: 1.2162 - accuracy: 0.5675 - val_loss: 1.1280 - val_accuracy: 0.5994\n",
            "Epoch 15/20\n",
            "391/391 [==============================] - 6s 16ms/step - loss: 1.2048 - accuracy: 0.5720 - val_loss: 1.1069 - val_accuracy: 0.6107\n",
            "Epoch 16/20\n",
            "391/391 [==============================] - 6s 16ms/step - loss: 1.1932 - accuracy: 0.5750 - val_loss: 1.1018 - val_accuracy: 0.6129\n",
            "Epoch 17/20\n",
            "391/391 [==============================] - 6s 16ms/step - loss: 1.1744 - accuracy: 0.5821 - val_loss: 1.0951 - val_accuracy: 0.6147\n",
            "Epoch 18/20\n",
            "391/391 [==============================] - 6s 16ms/step - loss: 1.1543 - accuracy: 0.5896 - val_loss: 1.0837 - val_accuracy: 0.6192\n",
            "Epoch 19/20\n",
            "391/391 [==============================] - 6s 16ms/step - loss: 1.1365 - accuracy: 0.5956 - val_loss: 1.0789 - val_accuracy: 0.6214\n",
            "Epoch 20/20\n",
            "391/391 [==============================] - 6s 16ms/step - loss: 1.1193 - accuracy: 0.5998 - val_loss: 1.0795 - val_accuracy: 0.6250\n",
            "Epoch 1/20\n",
            "391/391 [==============================] - 6s 16ms/step - loss: 1.1124 - accuracy: 0.6043 - val_loss: 1.0619 - val_accuracy: 0.6282\n",
            "Epoch 2/20\n",
            "391/391 [==============================] - 6s 16ms/step - loss: 1.1002 - accuracy: 0.6094 - val_loss: 1.0613 - val_accuracy: 0.6284\n",
            "Epoch 3/20\n",
            "391/391 [==============================] - 6s 16ms/step - loss: 1.0872 - accuracy: 0.6126 - val_loss: 1.0675 - val_accuracy: 0.6271\n",
            "Epoch 4/20\n",
            "391/391 [==============================] - 6s 16ms/step - loss: 1.0643 - accuracy: 0.6204 - val_loss: 1.0538 - val_accuracy: 0.6312\n",
            "Epoch 5/20\n",
            "391/391 [==============================] - 6s 16ms/step - loss: 1.0598 - accuracy: 0.6210 - val_loss: 1.0492 - val_accuracy: 0.6321\n",
            "Epoch 6/20\n",
            "391/391 [==============================] - 6s 16ms/step - loss: 1.0475 - accuracy: 0.6266 - val_loss: 1.0454 - val_accuracy: 0.6346\n",
            "Epoch 7/20\n",
            "391/391 [==============================] - 6s 16ms/step - loss: 1.0360 - accuracy: 0.6275 - val_loss: 1.0522 - val_accuracy: 0.6342\n",
            "Epoch 8/20\n",
            "391/391 [==============================] - 6s 16ms/step - loss: 1.0198 - accuracy: 0.6341 - val_loss: 1.0325 - val_accuracy: 0.6380\n",
            "Epoch 9/20\n",
            "391/391 [==============================] - 6s 16ms/step - loss: 1.0089 - accuracy: 0.6377 - val_loss: 1.0317 - val_accuracy: 0.6419\n",
            "Epoch 10/20\n",
            "391/391 [==============================] - 6s 16ms/step - loss: 1.0029 - accuracy: 0.6383 - val_loss: 1.0368 - val_accuracy: 0.6411\n",
            "Epoch 11/20\n",
            "391/391 [==============================] - 6s 16ms/step - loss: 0.9911 - accuracy: 0.6437 - val_loss: 1.0371 - val_accuracy: 0.6357\n",
            "Epoch 12/20\n",
            "391/391 [==============================] - 6s 16ms/step - loss: 0.9778 - accuracy: 0.6479 - val_loss: 1.0308 - val_accuracy: 0.6414\n",
            "Epoch 13/20\n",
            "391/391 [==============================] - 6s 16ms/step - loss: 0.9705 - accuracy: 0.6503 - val_loss: 1.0370 - val_accuracy: 0.6392\n",
            "Epoch 14/20\n",
            "391/391 [==============================] - 6s 16ms/step - loss: 0.9623 - accuracy: 0.6535 - val_loss: 1.0464 - val_accuracy: 0.6391\n",
            "Epoch 15/20\n",
            "391/391 [==============================] - 6s 16ms/step - loss: 0.9506 - accuracy: 0.6564 - val_loss: 1.0386 - val_accuracy: 0.6380\n",
            "Epoch 16/20\n",
            "391/391 [==============================] - 6s 16ms/step - loss: 0.9363 - accuracy: 0.6621 - val_loss: 1.0371 - val_accuracy: 0.6409\n",
            "Epoch 17/20\n",
            "391/391 [==============================] - 6s 16ms/step - loss: 0.9279 - accuracy: 0.6647 - val_loss: 1.0447 - val_accuracy: 0.6391\n",
            "Epoch 18/20\n",
            "391/391 [==============================] - 6s 16ms/step - loss: 0.9218 - accuracy: 0.6658 - val_loss: 1.0259 - val_accuracy: 0.6434\n",
            "Epoch 19/20\n",
            "391/391 [==============================] - 6s 16ms/step - loss: 0.9083 - accuracy: 0.6710 - val_loss: 1.0251 - val_accuracy: 0.6437\n",
            "Epoch 20/20\n",
            "391/391 [==============================] - 6s 16ms/step - loss: 0.9068 - accuracy: 0.6695 - val_loss: 1.0493 - val_accuracy: 0.6361\n",
            "79/79 [==============================] - 0s 6ms/step - loss: 1.0493 - accuracy: 0.6361\n"
          ],
          "name": "stdout"
        }
      ]
    }
  ]
}